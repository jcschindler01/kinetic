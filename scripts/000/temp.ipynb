{
 "cells": [
  {
   "cell_type": "code",
   "execution_count": 1,
   "id": "be17101b-dd7f-40d4-aa73-fc45124ad353",
   "metadata": {},
   "outputs": [],
   "source": [
    "using GLMakie"
   ]
  },
  {
   "cell_type": "code",
   "execution_count": 14,
   "id": "d2875909-1aa6-4714-bcc8-bd29025dcaf2",
   "metadata": {},
   "outputs": [
    {
     "data": {
      "text/plain": [
       "GLMakie.Screen(...)"
      ]
     },
     "execution_count": 14,
     "metadata": {},
     "output_type": "execute_result"
    }
   ],
   "source": [
    "Makie.inline!(false)\n",
    "\n",
    "points = Observable(Point2f[randn(2)])\n",
    "\n",
    "fig, ax = scatter(points)\n",
    "limits!(ax, -4, 4, -4, 4)\n",
    "\n",
    "display(fig)"
   ]
  },
  {
   "cell_type": "code",
   "execution_count": 11,
   "id": "2696e3af-4953-4571-b4a7-a297bcc1f1c0",
   "metadata": {},
   "outputs": [
    {
     "data": {
      "text/plain": [
       "false"
      ]
     },
     "execution_count": 11,
     "metadata": {},
     "output_type": "execute_result"
    }
   ],
   "source": [
    "Makie.inline!(false)"
   ]
  },
  {
   "cell_type": "code",
   "execution_count": null,
   "id": "771e1036-61d9-4805-aead-34ae293708c5",
   "metadata": {},
   "outputs": [],
   "source": []
  }
 ],
 "metadata": {
  "kernelspec": {
   "display_name": "Julia 1.9.0",
   "language": "julia",
   "name": "julia-1.9"
  },
  "language_info": {
   "file_extension": ".jl",
   "mimetype": "application/julia",
   "name": "julia",
   "version": "1.9.0"
  }
 },
 "nbformat": 4,
 "nbformat_minor": 5
}
