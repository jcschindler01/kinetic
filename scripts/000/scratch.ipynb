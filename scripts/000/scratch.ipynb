{
 "cells": [
  {
   "cell_type": "code",
   "execution_count": 2,
   "id": "47335c95-5a88-4ac1-af0b-59f95d00ad91",
   "metadata": {},
   "outputs": [],
   "source": [
    "import PythonPlot as plt"
   ]
  },
  {
   "cell_type": "code",
   "execution_count": 13,
   "id": "75744111-d835-4c36-8e95-c967c781b7af",
   "metadata": {},
   "outputs": [
    {
     "data": {
      "text/plain": [
       "true"
      ]
     },
     "execution_count": 13,
     "metadata": {},
     "output_type": "execute_result"
    }
   ],
   "source": [
    "plt.pygui(true)"
   ]
  },
  {
   "cell_type": "code",
   "execution_count": 14,
   "id": "48a31fa9-2cc3-4574-b33c-ab9babfa17ac",
   "metadata": {},
   "outputs": [
    {
     "data": {
      "text/plain": [
       "Python: None"
      ]
     },
     "execution_count": 14,
     "metadata": {},
     "output_type": "execute_result"
    }
   ],
   "source": [
    "x = range(0,1,101)\n",
    "\n",
    "ax, = plt.plot(x,x)\n",
    "\n",
    "plt.draw()\n",
    "\n",
    "sleep(1)\n",
    "\n",
    "ax.set_ydata(x.^2)\n",
    "\n",
    "plt.draw()\n",
    "\n",
    "# for i in 1:10\n",
    "#     ax.set_ydata(x.^i)\n",
    "#     plt.draw()\n",
    "#     sleep(.25)\n",
    "# end\n"
   ]
  },
  {
   "cell_type": "code",
   "execution_count": null,
   "id": "e4e72ba8-9459-42ff-af53-30e8823aed0f",
   "metadata": {},
   "outputs": [],
   "source": []
  }
 ],
 "metadata": {
  "kernelspec": {
   "display_name": "Julia 1.9.0",
   "language": "julia",
   "name": "julia-1.9"
  },
  "language_info": {
   "file_extension": ".jl",
   "mimetype": "application/julia",
   "name": "julia",
   "version": "1.9.0"
  }
 },
 "nbformat": 4,
 "nbformat_minor": 5
}
