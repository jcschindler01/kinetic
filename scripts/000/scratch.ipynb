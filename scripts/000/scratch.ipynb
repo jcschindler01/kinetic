{
 "cells": [
  {
   "cell_type": "code",
   "execution_count": 2,
   "id": "47335c95-5a88-4ac1-af0b-59f95d00ad91",
   "metadata": {},
   "outputs": [
    {
     "data": {
      "text/plain": [
       "false"
      ]
     },
     "execution_count": 2,
     "metadata": {},
     "output_type": "execute_result"
    }
   ],
   "source": [
    "include(\"../../core/kinetic.jl\")\n",
    "using .Kinetic\n",
    "using GLMakie\n",
    "Makie.inline!(false)\n",
    "#using StatsBase : Histogram"
   ]
  },
  {
   "cell_type": "code",
   "execution_count": 4,
   "id": "a74ff895-cb81-4d7f-b8bb-f04ade63981f",
   "metadata": {},
   "outputs": [
    {
     "data": {
      "text/plain": [
       "Datapoint(\"init\", 500, 0.0, \"free\", \"random\", 0.1, 1, 0, 0, 0.0, 0, [0.74238 0.10707; 0.81124 0.78242; … ; 0.3905 0.12281; 0.40281 0.17225], [0.77936 1.04339; 1.21942 -0.29228; … ; -0.00408 -0.43915; 0.1901 -1.11367])"
      ]
     },
     "execution_count": 4,
     "metadata": {},
     "output_type": "execute_result"
    }
   ],
   "source": [
    "dat = Datapoint(N=500)"
   ]
  },
  {
   "cell_type": "code",
   "execution_count": 5,
   "id": "f4a68a82-254f-40db-aba4-0c716c829308",
   "metadata": {},
   "outputs": [
    {
     "data": {},
     "execution_count": 5,
     "metadata": {},
     "output_type": "execute_result"
    }
   ],
   "source": [
    "boxtheme = Theme(\n",
    "    fontsize=14,\n",
    "    palette = (color=[:black,],),\n",
    "    Axis = (\n",
    "        limits = (0,1,0,1),\n",
    "        xticks = [0,1],\n",
    "        yticks = [0,1],\n",
    "        aspect = 1,\n",
    "        xgridvisible = false,\n",
    "        ygridvisible = false,\n",
    "    ),\n",
    "    Lines = (\n",
    "        color = :black,\n",
    "    ),\n",
    "    Scatter = (\n",
    "        marker = :circle,\n",
    "        markersize = 5,\n",
    "    ),\n",
    ")\n",
    "\n",
    "set_theme!(boxtheme)\n",
    "\n",
    "newfig() = newfig(Datapoint())\n",
    "\n",
    "function newfig(dat::Datapoint)\n",
    "    fig = Figure(resolution = (800,800))\n",
    "    Axis(fig[1,1], \n",
    "        xlabel=L\"x\", \n",
    "        ylabel=L\"y\",\n",
    "    )\n",
    "    Axis(fig[1,2], \n",
    "        xlabel=L\"v_x\", \n",
    "        ylabel=L\"v_y\", \n",
    "        limits=(-2,2,-2,2), \n",
    "        xticks=-2:2,\n",
    "        yticks=-2:2,\n",
    "    )\n",
    "    Axis(fig[2,1], \n",
    "        xlabel=L\"v\", \n",
    "        ylabel=L\"p(v)\", \n",
    "        limits=(0,3,0,2), \n",
    "        xticks=0:3,\n",
    "        yticks=0:2,\n",
    "    )\n",
    "    return fig\n",
    "end\n",
    "\n",
    "boxplot(dat::Datapoint) = boxplot(newfig(dat),dat)\n",
    "\n",
    "function boxplot(fig::Figure, dat::Datapoint)\n",
    "    ## calculate speeds\n",
    "    v = sqrt.(dat.vxy[:,1].^2 + dat.vxy[:,2].^2)\n",
    "    ## plot\n",
    "    scatter!(fig.content[1],  dat.xy[:,1],  dat.xy[:,2])\n",
    "    scatter!(fig.content[2], dat.vxy[:,1], dat.vxy[:,2])\n",
    "    hist!(fig.content[3], v; bins=range(0,3,50), normalization=:pdf, fillto=0)\n",
    "    ## return\n",
    "    return fig\n",
    "end\n",
    "\n",
    "fig = boxplot(dat)\n",
    "\n",
    "fig\n"
   ]
  },
  {
   "cell_type": "code",
   "execution_count": 20,
   "id": "16f15d32-36dd-49f6-b29b-6679998cfd1a",
   "metadata": {},
   "outputs": [],
   "source": [
    "\n",
    "dat = Datapoint(N=500, r0=0.005, dt=.01, div=2, ic=\"circle\", integrator=\"free\")\n",
    "\n",
    "fig = newfig(dat)\n",
    "\n",
    "t  = Observable(dat.t)\n",
    "x  = Observable(dat.xy[:,1])\n",
    "y  = Observable(dat.xy[:,2])\n",
    "\n",
    "scatter!(fig.content[1], x, y)\n",
    "\n",
    "display(fig)\n",
    "\n",
    "while t[]<=10\n",
    "    evolve!(dat)\n",
    "    t[] = dat.t\n",
    "    x[] = dat.xy[:,1]\n",
    "    y[] = dat.xy[:,2]\n",
    "    sleep(.01)\n",
    "end\n",
    "\n",
    "\n"
   ]
  },
  {
   "cell_type": "code",
   "execution_count": null,
   "id": "77d37245-ba79-4a93-810b-cf1c7ecfdb57",
   "metadata": {},
   "outputs": [],
   "source": []
  }
 ],
 "metadata": {
  "kernelspec": {
   "display_name": "Julia 1.9.0",
   "language": "julia",
   "name": "julia-1.9"
  },
  "language_info": {
   "file_extension": ".jl",
   "mimetype": "application/julia",
   "name": "julia",
   "version": "1.9.0"
  }
 },
 "nbformat": 4,
 "nbformat_minor": 5
}
